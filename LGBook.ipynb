{
 "cells": [
  {
   "cell_type": "code",
   "execution_count": 1,
   "metadata": {},
   "outputs": [],
   "source": [
    "import numpy as np\n",
    "import pandas as pd\n",
    "\n"
   ]
  },
  {
   "cell_type": "code",
   "execution_count": 11,
   "metadata": {},
   "outputs": [
    {
     "data": {
      "text/html": [
       "<div>\n",
       "<style scoped>\n",
       "    .dataframe tbody tr th:only-of-type {\n",
       "        vertical-align: middle;\n",
       "    }\n",
       "\n",
       "    .dataframe tbody tr th {\n",
       "        vertical-align: top;\n",
       "    }\n",
       "\n",
       "    .dataframe thead th {\n",
       "        text-align: right;\n",
       "    }\n",
       "</style>\n",
       "<table border=\"1\" class=\"dataframe\">\n",
       "  <thead>\n",
       "    <tr style=\"text-align: right;\">\n",
       "      <th></th>\n",
       "      <th>T10</th>\n",
       "      <th>Expenditure on health</th>\n",
       "      <th>Unnamed: 2</th>\n",
       "      <th>Unnamed: 3</th>\n",
       "      <th>Unnamed: 4</th>\n",
       "      <th>Unnamed: 5</th>\n",
       "      <th>Unnamed: 6</th>\n",
       "    </tr>\n",
       "  </thead>\n",
       "  <tbody>\n",
       "    <tr>\n",
       "      <th>0</th>\n",
       "      <td>Region/Country/Area</td>\n",
       "      <td>NaN</td>\n",
       "      <td>Year</td>\n",
       "      <td>Series</td>\n",
       "      <td>Value</td>\n",
       "      <td>Footnotes</td>\n",
       "      <td>Source</td>\n",
       "    </tr>\n",
       "    <tr>\n",
       "      <th>1</th>\n",
       "      <td>4</td>\n",
       "      <td>Afghanistan</td>\n",
       "      <td>2005</td>\n",
       "      <td>Current health expenditure (% of GDP)</td>\n",
       "      <td>9.9</td>\n",
       "      <td>NaN</td>\n",
       "      <td>World Health Organization (WHO), Geneva, WHO G...</td>\n",
       "    </tr>\n",
       "    <tr>\n",
       "      <th>2</th>\n",
       "      <td>4</td>\n",
       "      <td>Afghanistan</td>\n",
       "      <td>2010</td>\n",
       "      <td>Current health expenditure (% of GDP)</td>\n",
       "      <td>8.6</td>\n",
       "      <td>NaN</td>\n",
       "      <td>World Health Organization (WHO), Geneva, WHO G...</td>\n",
       "    </tr>\n",
       "    <tr>\n",
       "      <th>3</th>\n",
       "      <td>4</td>\n",
       "      <td>Afghanistan</td>\n",
       "      <td>2016</td>\n",
       "      <td>Current health expenditure (% of GDP)</td>\n",
       "      <td>11.0</td>\n",
       "      <td>NaN</td>\n",
       "      <td>World Health Organization (WHO), Geneva, WHO G...</td>\n",
       "    </tr>\n",
       "    <tr>\n",
       "      <th>4</th>\n",
       "      <td>4</td>\n",
       "      <td>Afghanistan</td>\n",
       "      <td>2017</td>\n",
       "      <td>Current health expenditure (% of GDP)</td>\n",
       "      <td>11.8</td>\n",
       "      <td>NaN</td>\n",
       "      <td>World Health Organization (WHO), Geneva, WHO G...</td>\n",
       "    </tr>\n",
       "  </tbody>\n",
       "</table>\n",
       "</div>"
      ],
      "text/plain": [
       "                   T10 Expenditure on health Unnamed: 2  \\\n",
       "0  Region/Country/Area                   NaN       Year   \n",
       "1                    4           Afghanistan       2005   \n",
       "2                    4           Afghanistan       2010   \n",
       "3                    4           Afghanistan       2016   \n",
       "4                    4           Afghanistan       2017   \n",
       "\n",
       "                              Unnamed: 3 Unnamed: 4 Unnamed: 5  \\\n",
       "0                                 Series      Value  Footnotes   \n",
       "1  Current health expenditure (% of GDP)        9.9        NaN   \n",
       "2  Current health expenditure (% of GDP)        8.6        NaN   \n",
       "3  Current health expenditure (% of GDP)       11.0        NaN   \n",
       "4  Current health expenditure (% of GDP)       11.8        NaN   \n",
       "\n",
       "                                          Unnamed: 6  \n",
       "0                                             Source  \n",
       "1  World Health Organization (WHO), Geneva, WHO G...  \n",
       "2  World Health Organization (WHO), Geneva, WHO G...  \n",
       "3  World Health Organization (WHO), Geneva, WHO G...  \n",
       "4  World Health Organization (WHO), Geneva, WHO G...  "
      ]
     },
     "execution_count": 11,
     "metadata": {},
     "output_type": "execute_result"
    }
   ],
   "source": [
    "health = pd.read_csv(\"SYB64_325_202110_Expenditure on health.csv\", encoding='latin-1')\n",
    "health.head()"
   ]
  },
  {
   "cell_type": "code",
   "execution_count": null,
   "metadata": {},
   "outputs": [],
   "source": []
  },
  {
   "cell_type": "code",
   "execution_count": null,
   "metadata": {},
   "outputs": [],
   "source": []
  }
 ],
 "metadata": {
  "kernelspec": {
   "display_name": "Python 3",
   "language": "python",
   "name": "python3"
  },
  "language_info": {
   "codemirror_mode": {
    "name": "ipython",
    "version": 3
   },
   "file_extension": ".py",
   "mimetype": "text/x-python",
   "name": "python",
   "nbconvert_exporter": "python",
   "pygments_lexer": "ipython3",
   "version": "3.8.5"
  }
 },
 "nbformat": 4,
 "nbformat_minor": 4
}
