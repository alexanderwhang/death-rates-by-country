{
 "cells": [
  {
   "cell_type": "code",
   "execution_count": 1,
   "id": "f0225780",
   "metadata": {},
   "outputs": [
    {
     "name": "stderr",
     "output_type": "stream",
     "text": [
      "/Applications/anaconda3/lib/python3.9/site-packages/pandas/core/apply.py:507: FutureWarning: Dropping invalid columns in DataFrameGroupBy.mean is deprecated. In a future version, a TypeError will be raised. Before calling .mean, select only columns which should be valid for the function.\n",
      "  return self._try_aggregate_string_function(obj, f, *self.args, **self.kwargs)\n"
     ]
    }
   ],
   "source": [
    "import numpy as np\n",
    "import seaborn as sns\n",
    "import pandas as pd\n",
    "\n",
    "health = pd.read_csv(\"SYB64_325_202110_Expenditure on health.csv\", encoding='latin-1')\n",
    "health.head()\n",
    "\n",
    "def recent(df):\n",
    "    new_df = ((df.sort_values(by=['Year']).drop_duplicates(subset=['Area Name'], keep='last')).sort_values(by = ['Area Name']))\n",
    "    new_df = new_df.drop(columns = ['Year'])\n",
    "    return new_df\n",
    "\n",
    "def clean(dataset):\n",
    "    codes = dataset.groupby(\"Area Code\").count().index\n",
    "    i = 0\n",
    "    data1 = [pd.DataFrame()] * len(codes)\n",
    "    curName = \"\"\n",
    "    for ind in codes:\n",
    "        data1[i] = dataset[dataset[\"Area Code\"] == ind]\n",
    "        curName = data1[i][\"Area Name\"].reset_index(drop=True)[0]\n",
    "        data1[i] = data1[i].pivot_table(\"Value\",index=\"Year\",columns=\"Series\",aggfunc='mean')\n",
    "        data1[i][\"Area Code\"] = [ind] * len(data1[i])\n",
    "        data1[i][\"Area Name\"] = [curName] * len(data1[i])\n",
    "        data1[i]=data1[i].reset_index()\n",
    "        i = i+1\n",
    "\n",
    "    data_final = data1[0]\n",
    "    for ind in range(len(data1)):\n",
    "        if(ind!=0):\n",
    "            data_final = pd.concat([data_final, data1[ind]])\n",
    "    data_final = data_final.reset_index(drop=True)\n",
    "    return data_final\n",
    "\n",
    "data_health = pd.read_csv(\"SYB64_325_202110_Expenditure on health.csv\", encoding='latin-1')\n",
    "data_growth = pd.read_csv(\"SYB61_253_Population Growth Rates in Urban areas and Capital cities.csv\", encoding = \"latin-1\")\n",
    "data_pop = pd.read_csv(\"SYB64_1_202110_Population, Surface Area and Density.csv\", encoding = \"latin-1\")\n",
    "data_trade = pd.read_csv(\"SYB64_123_202110_Total Imports Exports and Balance of Trade.csv\", encoding = \"latin-1\")\n",
    "data_cpi = pd.read_csv(\"SYB64_128_202110_Consumer Price Index.csv\", encoding = \"latin-1\")\n",
    "data_land = pd.read_csv(\"SYB64_145_202110_Land.csv\", encoding = \"latin-1\")\n",
    "data_employment = pd.read_csv(\"SYB64_200_202110_Employment.csv\", encoding = \"latin-1\")\n",
    "data_gdp = pd.read_csv(\"SYB64_230_202110_GDP and GDP Per Capita.csv\", encoding = \"latin-1\")\n",
    "data_mortality = pd.read_csv(\"SYB64_246_202110_Population Growth, Fertility and Mortality Indicators.csv\", encoding = \"latin-1\")\n",
    "data_health = pd.read_csv(\"SYB64_325_202110_Expenditure on health.csv\", encoding = \"latin-1\")\n",
    "data_death = pd.read_csv(\"Death Cause Reason by Country.csv\", encoding = \"latin-1\")\n",
    "\n",
    "health = clean(data_health)\n",
    "growth = clean(data_growth)\n",
    "pop = clean(data_pop)\n",
    "trade = clean(data_trade)\n",
    "cpi = clean(data_cpi)\n",
    "land = clean(data_land)\n",
    "employment = clean(data_employment)\n",
    "gdp = clean(data_gdp)\n",
    "mortality = clean(data_mortality)\n",
    "\n",
    "rec_health = recent(health)\n",
    "rec_growth = recent(growth)\n",
    "rec_pop = recent(pop)\n",
    "rec_trade = recent(trade)\n",
    "rec_cpi = recent(cpi)\n",
    "rec_land = recent(land)\n",
    "rec_employment = recent(employment)\n",
    "rec_gdp = recent(gdp)\n",
    "rec_mortality = recent(mortality)\n",
    "\n",
    "df_merge = [rec_growth, rec_pop, rec_trade, rec_cpi, rec_land, rec_employment, rec_gdp, rec_mortality]\n",
    "merged = rec_health\n",
    "for df in df_merge:\n",
    "    merged = merged.merge(df, how=\"left\", on=['Area Name', 'Area Code'])\n",
    "\n",
    "merged.head()\n",
    "\n",
    "combined = pd.merge(merged, data_death, how = \"inner\", left_on = \"Area Name\", right_on = \"Country Name\")\n",
    "#cpi.head()\n",
    "#data_death.head()\n",
    "#combined.head()"
   ]
  },
  {
   "cell_type": "code",
   "execution_count": 8,
   "id": "0caa1c95",
   "metadata": {},
   "outputs": [
    {
     "name": "stdout",
     "output_type": "stream",
     "text": [
      "627817861.6843169 0.016486744884904092\n"
     ]
    }
   ],
   "source": [
    "from sklearn.linear_model import LinearRegression\n",
    "from sklearn.metrics import mean_squared_error\n",
    "from sklearn.metrics import r2_score\n",
    "\n",
    "variables = combined[[\"Current health expenditure (% of GDP)\", \"Covid-19 Deaths\"]].dropna()\n",
    "\n",
    "dataset = variables[[\"Current health expenditure (% of GDP)\"]].values\n",
    "target = variables[\"Covid-19 Deaths\"].values\n",
    "\n",
    "lin_reg = LinearRegression()\n",
    "lin_reg.fit(X = dataset, y = target)\n",
    "variables[\"Predicted deaths\"] = lin_reg.predict(dataset)\n",
    "\n",
    "mse = mean_squared_error(variables[\"Covid-19 Deaths\"].values, variables[\"Predicted deaths\"].values) \n",
    "r2 = r2_score(variables[\"Covid-19 Deaths\"].values, variables[\"Predicted deaths\"].values) \n",
    "\n",
    "print(mse, r2)"
   ]
  },
  {
   "cell_type": "code",
   "execution_count": 13,
   "id": "5c280da2",
   "metadata": {},
   "outputs": [
    {
     "name": "stdout",
     "output_type": "stream",
     "text": [
      "49579.89025452992 0.1366228864424217\n"
     ]
    }
   ],
   "source": [
    "variables2 = combined[[\"Urban population (percent)\", \"Interpersonal violence\"]].dropna()\n",
    "\n",
    "dataset = variables2[[\"Urban population (percent)\"]].values\n",
    "target = variables2[\"Interpersonal violence\"].values\n",
    "\n",
    "lin_reg = LinearRegression()\n",
    "lin_reg.fit(X = dataset, y = target)\n",
    "variables2[\"Predicted deaths\"] = lin_reg.predict(dataset)\n",
    "\n",
    "mse = mean_squared_error(variables2[\"Interpersonal violence\"].values, variables2[\"Predicted deaths\"].values) \n",
    "r2 = r2_score(variables2[\"Interpersonal violence\"].values, variables2[\"Predicted deaths\"].values) \n",
    "\n",
    "print(mse, r2)"
   ]
  },
  {
   "cell_type": "code",
   "execution_count": 14,
   "id": "68c2e715",
   "metadata": {},
   "outputs": [
    {
     "name": "stdout",
     "output_type": "stream",
     "text": [
      "50300828.18900577 0.0006456897345733514\n"
     ]
    }
   ],
   "source": [
    "variables3 = combined[[\"Population annual rate of increase (percent)\", \"Interpersonal violence\"]].dropna()\n",
    "\n",
    "dataset = variables3[[\"Population annual rate of increase (percent)\"]].values\n",
    "target = variables3[\"Interpersonal violence\"].values\n",
    "\n",
    "lin_reg = LinearRegression()\n",
    "lin_reg.fit(X = dataset, y = target)\n",
    "variables3[\"Predicted deaths\"] = lin_reg.predict(dataset)\n",
    "\n",
    "mse = mean_squared_error(variables3[\"Interpersonal violence\"].values, variables3[\"Predicted deaths\"].values) \n",
    "r2 = r2_score(variables3[\"Interpersonal violence\"].values, variables3[\"Predicted deaths\"].values) \n",
    "\n",
    "print(mse, r2)"
   ]
  },
  {
   "cell_type": "code",
   "execution_count": 15,
   "id": "922eb536",
   "metadata": {},
   "outputs": [
    {
     "name": "stdout",
     "output_type": "stream",
     "text": [
      "665704642.0780625 0.026309100838424415\n"
     ]
    }
   ],
   "source": [
    "variables4 = combined[[\"Life expectancy at birth for both sexes (years)\", \"Covid-19 Deaths\"]].dropna()\n",
    "\n",
    "dataset = variables4[[\"Life expectancy at birth for both sexes (years)\"]].values\n",
    "target = variables4[\"Covid-19 Deaths\"].values\n",
    "\n",
    "lin_reg = LinearRegression()\n",
    "lin_reg.fit(X = dataset, y = target)\n",
    "variables4[\"Predicted deaths\"] = lin_reg.predict(dataset)\n",
    "\n",
    "mse = mean_squared_error(variables4[\"Covid-19 Deaths\"].values, variables4[\"Predicted deaths\"].values) \n",
    "r2 = r2_score(variables4[\"Covid-19 Deaths\"].values, variables4[\"Predicted deaths\"].values) \n",
    "\n",
    "print(mse, r2)"
   ]
  },
  {
   "cell_type": "code",
   "execution_count": 16,
   "id": "4bbcdee7",
   "metadata": {},
   "outputs": [
    {
     "name": "stdout",
     "output_type": "stream",
     "text": [
      "343919454.0355641 0.002176694497578402\n"
     ]
    }
   ],
   "source": [
    "variables5 = combined[[\"Consumer price index: General\", \"Self-harm\"]].dropna()\n",
    "\n",
    "dataset = variables5[[\"Consumer price index: General\"]].values\n",
    "target = variables5[\"Self-harm\"].values\n",
    "\n",
    "lin_reg = LinearRegression()\n",
    "lin_reg.fit(X = dataset, y = target)\n",
    "variables5[\"Predicted deaths\"] = lin_reg.predict(dataset)\n",
    "\n",
    "mse = mean_squared_error(variables5[\"Self-harm\"].values, variables5[\"Predicted deaths\"].values) \n",
    "r2 = r2_score(variables5[\"Self-harm\"].values, variables5[\"Predicted deaths\"].values) \n",
    "\n",
    "print(mse, r2)"
   ]
  },
  {
   "cell_type": "code",
   "execution_count": null,
   "id": "2d6cd275",
   "metadata": {},
   "outputs": [],
   "source": []
  }
 ],
 "metadata": {
  "kernelspec": {
   "display_name": "Python 3 (ipykernel)",
   "language": "python",
   "name": "python3"
  },
  "language_info": {
   "codemirror_mode": {
    "name": "ipython",
    "version": 3
   },
   "file_extension": ".py",
   "mimetype": "text/x-python",
   "name": "python",
   "nbconvert_exporter": "python",
   "pygments_lexer": "ipython3",
   "version": "3.9.7"
  }
 },
 "nbformat": 4,
 "nbformat_minor": 5
}
